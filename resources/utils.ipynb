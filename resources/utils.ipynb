{
 "cells": [
  {
   "cell_type": "code",
   "execution_count": 1,
   "metadata": {},
   "outputs": [],
   "source": [
    "class Character:\n",
    "    def __init__(self, hp, dc, img_path, attack, dmg, special):\n",
    "        self.hp = hp\n",
    "        self.dc = dc\n",
    "        self.img = img_path\n",
    "        self.attack = attack\n",
    "        self.dmg = dmg\n",
    "        self.special = special\n",
    "    def damage(self, dmg):\n",
    "        self.hp = self.hp - dmg\n",
    "    @staticmethod\n",
    "    def shield():\n",
    "        self.dc = self.dc + 2\n",
    "    @staticmethod\n",
    "    def sword():\n",
    "        self.attack = self.attack + 2\n",
    "    @staticmethod\n",
    "    def fire_sword():\n",
    "        self.dmg = self.dmg + 2\n",
    "    @staticmethod\n",
    "    def heal():\n",
    "        self.hp = self.hp + 4\n"
   ]
  },
  {
   "cell_type": "code",
   "execution_count": null,
   "metadata": {},
   "outputs": [],
   "source": []
  }
 ],
 "metadata": {
  "kernelspec": {
   "display_name": "Python 3",
   "language": "python",
   "name": "python3"
  },
  "language_info": {
   "codemirror_mode": {
    "name": "ipython",
    "version": 3
   },
   "file_extension": ".py",
   "mimetype": "text/x-python",
   "name": "python",
   "nbconvert_exporter": "python",
   "pygments_lexer": "ipython3",
   "version": "3.6.8"
  }
 },
 "nbformat": 4,
 "nbformat_minor": 2
}
