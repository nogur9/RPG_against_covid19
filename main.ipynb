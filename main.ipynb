{
  "nbformat": 4,
  "nbformat_minor": 0,
  "metadata": {
    "kernelspec": {
      "display_name": "Python 3",
      "language": "python",
      "name": "python3"
    },
    "language_info": {
      "codemirror_mode": {
        "name": "ipython",
        "version": 3
      },
      "file_extension": ".py",
      "mimetype": "text/x-python",
      "name": "python",
      "nbconvert_exporter": "python",
      "pygments_lexer": "ipython3",
      "version": "3.6.8"
    },
    "colab": {
      "name": "main.ipynb",
      "provenance": [],
      "include_colab_link": true
    }
  },
  "cells": [
    {
      "cell_type": "markdown",
      "metadata": {
        "id": "view-in-github",
        "colab_type": "text"
      },
      "source": [
        "<a href=\"https://colab.research.google.com/github/nogur9/RPG_against_covid19/blob/master/main.ipynb\" target=\"_parent\"><img src=\"https://colab.research.google.com/assets/colab-badge.svg\" alt=\"Open In Colab\"/></a>"
      ]
    },
    {
      "cell_type": "code",
      "metadata": {
        "id": "09H61GWydEcE",
        "colab_type": "code",
        "colab": {}
      },
      "source": [
        "from ipywidgets import widgets\n",
        "from IPython.display import display, IFrame, HTML, Audio\n",
        "import ipywidgets\n",
        "import functools\n",
        "import os\n",
        "import random\n",
        "import locale\n",
        "import numpy as np\n",
        "import time\n",
        "from IPython.display import clear_output\n",
        "import string\n",
        "from IPython.display import FileLink\n",
        "import datetime\n",
        "from ipywidgets import Layout, Button, Box, VBox\n"
      ],
      "execution_count": 0,
      "outputs": []
    },
    {
      "cell_type": "code",
      "metadata": {
        "id": "zdFO9vpDdEcI",
        "colab_type": "code",
        "colab": {}
      },
      "source": [
        "class Character:\n",
        "    def __init__(self, hp, dc, img_path, attack, dmg, special):\n",
        "        self.hp = hp\n",
        "        self.dc = dc\n",
        "        self.img = img_path\n",
        "        self.attack = attack\n",
        "        self.dmg = dmg\n",
        "        self.special = special\n",
        "    @staticmethod\n",
        "    def shield():\n",
        "        self.dc = self.dc + 2\n",
        "    @staticmethod\n",
        "    def sword():\n",
        "        self.attack = self.attack + 2\n",
        "    @staticmethod\n",
        "    def fire_sword():\n",
        "        self.dmg = self.dmg + 2\n",
        "    @staticmethod\n",
        "    def heal():\n",
        "        self.hp = self.hp + 4\n",
        "    "
      ],
      "execution_count": 0,
      "outputs": []
    },
    {
      "cell_type": "code",
      "metadata": {
        "id": "6JiAgevkdEcM",
        "colab_type": "code",
        "colab": {}
      },
      "source": [
        "druid = Character(4, 4, os.path.join(f\"resources\", \"Character_selection\",\"druid.png\"), 2, 0, 0)\n",
        "wizard = Character(4, 4, os.path.join(f\"resources\", \"Character_selection\",\"wizard.png\"), 2, 0, 0)\n",
        "rouge = Character(4, 4, os.path.join(f\"resources\", \"Character_selection\",\"rouge.png\"), 2, 0, 0)\n",
        "angel = Character(4, 4, os.path.join(f\"resources\", \"Character_selection\",\"angel.png\"), 2, 0, 0)\n",
        "dragon = Character(4, 4, os.path.join(f\"resources\", \"Character_selection\",\"dragon.png\"), 2, 0, 0)\n",
        "warrior = Character(4, 4, os.path.join(f\"resources\", \"Character_selection\",\"warrior.png\"), 2, 0, 0)\n",
        "monster = Character(8, 4, os.path.join(f\"resources\", \"characters\",\"monster.png\"), 3, 0, 0)\n",
        "\n",
        "characters = {\"druid\":druid, \"wizard\":wizard, \"rouge\":rouge, \"angel\":angel, \"dragon\":dragon, \"warroir\":warrior}\n",
        "python= 1\n",
        "intro = 0\n"
      ],
      "execution_count": 0,
      "outputs": []
    },
    {
      "cell_type": "code",
      "metadata": {
        "id": "kpDXIJkhdEcR",
        "colab_type": "code",
        "colab": {}
      },
      "source": [
        "\n",
        "def get_python():\n",
        "    try:\n",
        "        global python\n",
        "        file = open(os.path.join(f\"resources\", \"story\", f\"{python}.png\"), \"rb\")\n",
        "        python = python + 1\n",
        "    except OSError:\n",
        "        print(python, \"the end\")\n",
        "        \n",
        "    image = file.read()\n",
        "    return widgets.Image(\n",
        "        value=image,\n",
        "        #width=500,\n",
        "        #height=600,\n",
        "    )\n",
        "def get_intro():\n",
        "    global intro\n",
        "    file = open(os.path.join(f\"resources\", \"intro\", f\"{intro}.png\"), \"rb\")\n",
        "    intro = intro + 1\n",
        "\n",
        "    image = file.read()\n",
        "    return widgets.Image(\n",
        "        value=image,\n",
        "        #width=500,\n",
        "        #height=600,\n",
        "    )\n",
        "\n",
        "def next_intro(b):\n",
        "    global intro\n",
        "    if intro == 2:\n",
        "        choose_characters()\n",
        "    else:\n",
        "        run_intro()\n",
        "\n",
        "def back_page(b):\n",
        "    global python\n",
        "    python = python-2\n",
        "    run()\n",
        "\n",
        "\n",
        "def next_page(b):\n",
        "    can_pass_to_next_report = True#check_mandatory_fields(subj_results, task)\n",
        "    if can_pass_to_next_report:\n",
        "     \n",
        "        run()\n",
        "    else:\n",
        "        b.button_style='warning'\n",
        "        \n",
        "def roll_dice(b, lbl=None):\n",
        "    lbl.value = str(random.randrange(1,7))\n",
        "\n",
        "def get_choises(characters):\n",
        "    return [widgets.Label(\"choose character:\")]+[widgets.GridBox([widgets.Checkbox(description= i) for i in \n",
        "        characters.keys()])]\n",
        "\n",
        "def choose_func(b, chars=None, targets_buttons=None):\n",
        "    chosen = {i.description:i.value for i in targets_buttons[1].children}\n",
        "    global characters\n",
        "    characters = {i: characters[i] for i in characters.keys() if chosen[i]}\n",
        "    run_story()\n",
        "\n",
        "def show_characters(b, characters=characters):\n",
        "    wids = []\n",
        "\n",
        "    for char in characters.keys():\n",
        "        file = open(characters[char].img, \"rb\")\n",
        "        image = file.read()\n",
        "        img = widgets.Image(\n",
        "            value=image,\n",
        "            width=500,\n",
        "            height=600,\n",
        "        )\n",
        "        lbl = widgets.Label(f\"{char}, hp = {characters[char].hp}\")\n",
        "        wids.append(widgets.GridBox([lbl, img]))\n",
        "    display(widgets.GridBox([*wids]))\n",
        "\n",
        "\n",
        "def get_targets(characters):\n",
        "    return widgets.ToggleButtons(options=characters.keys())     \n",
        "\n",
        "def hit_func(b, targets_buttons=None, characters=characters, dmg=1):\n",
        "    target = characters[targets_buttons.value]\n",
        "    target.damage(dmg)\n",
        "    print(target)\n",
        "    play_turn()\n",
        "    \n",
        "def miss_func(b):\n",
        "    play_turn()\n",
        "    \n",
        "def attack(b, attacker=None, lbl=None, hit=None, miss=None, targets_buttons=None, characters=characters):\n",
        "    target = characters[targets_buttons.value]\n",
        "    if target is None:\n",
        "        b.button_style='warning'\n",
        "    else:\n",
        "        dice =  random.randrange(1,7)\n",
        "        atk = attacker.attack + dice\n",
        "        \n",
        "        lbl.value = f\"dice = {dice}\\nattack = {atk}\\ndef {target.dc}\"\n",
        "        hit.disabled = False\n",
        "        miss.disabled = False\n",
        "## screens    \n",
        "\n",
        "def choose_characters():\n",
        "    clear_output()\n",
        "    targets_buttons = get_choises(characters)\n",
        "    choose = widgets.Button(description=f\"choose\")\n",
        "    choose.on_click(functools.partial(choose_func, chars=characters, targets_buttons=targets_buttons))\n",
        "    chars = widgets.Button(description=f\"show Characters\")\n",
        "    chars.on_click(functools.partial(show_characters, characters=characters))\n",
        "    \n",
        "    display(widgets.GridBox([*targets_buttons, choose, chars]))\n",
        "    \n",
        "    \n",
        "def run_story():\n",
        "    clear_output()\n",
        "    back_button = widgets.Button(description=f\"back\")\n",
        "    back_button.on_click(functools.partial(back_page))\n",
        "    \n",
        "    next_button = widgets.Button(description=f\"next\")\n",
        "    next_button.on_click(functools.partial(next_page))\n",
        "    \n",
        "    dice_lbl = widgets.Label(\"0\")\n",
        "    dice = widgets.Button(description=f\"roll dice\")\n",
        "    dice.on_click(functools.partial(roll_dice, lbl=dice_lbl))\n",
        "    \n",
        "    chars = widgets.Button(description=f\"show Characters\")\n",
        "    chars.on_click(functools.partial(show_characters, characters=characters))\n",
        "    if python == 1:\n",
        "        img = get_python()\n",
        "        display(widgets.GridBox([img, next_button, dice, dice_lbl, chars]))\n",
        "    else:\n",
        "        img = get_python()\n",
        "        display(widgets.GridBox([img, widgets.Box([back_button, next_button, dice, dice_lbl, chars])]))\n",
        "\n",
        "def play_turn():\n",
        "    global battle_round\n",
        "    try:\n",
        "        turn = next(battle_round)\n",
        "        battle(turn, characters)\n",
        "    except StopIteration:\n",
        "        battle_round = iter([*characters.keys()])\n",
        "        play_turn()\n",
        "\n",
        "def battle(turn, characters):\n",
        "    clear_output()\n",
        "    turn_lbl = widgets.Label(turn)\n",
        "        \n",
        "    next_button = widgets.Button(description=f\"finish battle\")\n",
        "    next_button.on_click(functools.partial(next_page))\n",
        "\n",
        "    attacker = None\n",
        "    target = None\n",
        "    targets_buttons = get_targets(characters)\n",
        "    hit = ipywidgets.Button(description=\"hit\", disabled=True)\n",
        "    hit.on_click(functools.partial(hit_func, targets_buttons=targets_buttons, characters=characters))\n",
        "\n",
        "    miss = ipywidgets.Button(description=\"miss\", disabled=True)\n",
        "    miss.on_click(functools.partial(miss_func))\n",
        "    attack_lbl = widgets.Label(\"\")\n",
        "    attack_button = widgets.Button(description=f\"roll dice\")\n",
        "    \n",
        "    chars = widgets.Button(description=f\"show Characters\")\n",
        "    chars.on_click(functools.partial(show_characters, characters=characters))\n",
        "    if turn == \"monster\":\n",
        "        attack_button.on_click(functools.partial(attack, attacker=monster, lbl=attack_lbl, hit=hit, miss=miss, targets_buttons=targets_buttons, characters=characters))\n",
        "        display(widgets.GridBox([next_button, turn_lbl, targets_buttons, attack_lbl,attack_button, hit, miss, chars]))\n",
        "        \n",
        "        \n",
        "    else: \n",
        "        attacker = characters[turn]\n",
        "        targets_buttons.value = \"monster\"\n",
        "        attack_button.on_click(functools.partial(attack, attacker=attacker, lbl=attack_lbl, hit=hit, miss=miss, targets_buttons=targets_buttons, characters=characters))\n",
        "        display(widgets.GridBox([next_button, turn_lbl, attack_lbl,attack_button, hit, miss, chars]))\n",
        "        \n"
      ],
      "execution_count": 0,
      "outputs": []
    },
    {
      "cell_type": "code",
      "metadata": {
        "scrolled": false,
        "id": "vwhicMOddEcT",
        "colab_type": "code",
        "colab": {
          "referenced_widgets": [
            "440868724d714a33b6148795cd81f582"
          ]
        },
        "outputId": "7e3ace7b-f5c0-4334-943e-c8d48209f9f6"
      },
      "source": [
        "def run_intro():\n",
        "    clear_output()\n",
        "\n",
        "    next_button = widgets.Button(description=f\"next\")\n",
        "    next_button.on_click(functools.partial(next_intro))\n",
        "    img = get_intro()\n",
        "    display(widgets.GridBox([img, next_button]))\n",
        "run_intro()       "
      ],
      "execution_count": 0,
      "outputs": [
        {
          "output_type": "display_data",
          "data": {
            "application/vnd.jupyter.widget-view+json": {
              "model_id": "440868724d714a33b6148795cd81f582",
              "version_major": 2,
              "version_minor": 0
            },
            "text/plain": [
              "GridBox(children=(Image(value=b'\\x89PNG\\r\\n\\x1a\\n\\x00\\x00\\x00\\rIHDR\\x00\\x00\\x03\\xb0\\x00\\x00\\x02\\x12\\x08\\x02\\x0…"
            ]
          },
          "metadata": {
            "tags": []
          }
        }
      ]
    },
    {
      "cell_type": "code",
      "metadata": {
        "id": "SsAuW_akdEcY",
        "colab_type": "code",
        "colab": {},
        "outputId": "0d92f0ea-fdc7-465a-ec26-d1822902dfd3"
      },
      "source": [
        "\n",
        "battle_round = iter([*characters.keys()])\n",
        "\n",
        "play_turn()"
      ],
      "execution_count": 0,
      "outputs": [
        {
          "output_type": "error",
          "ename": "TraitError",
          "evalue": "Invalid selection: value not found",
          "traceback": [
            "\u001b[1;31m---------------------------------------------------------------------------\u001b[0m",
            "\u001b[1;31mStopIteration\u001b[0m                             Traceback (most recent call last)",
            "\u001b[1;32mC:\\Anaconda\\lib\\site-packages\\ipywidgets\\widgets\\widget_selection.py\u001b[0m in \u001b[0;36mfindvalue\u001b[1;34m(array, value, compare)\u001b[0m\n\u001b[0;32m    132\u001b[0m     \u001b[1;32mtry\u001b[0m\u001b[1;33m:\u001b[0m\u001b[1;33m\u001b[0m\u001b[1;33m\u001b[0m\u001b[0m\n\u001b[1;32m--> 133\u001b[1;33m         \u001b[1;32mreturn\u001b[0m \u001b[0mnext\u001b[0m\u001b[1;33m(\u001b[0m\u001b[0mx\u001b[0m \u001b[1;32mfor\u001b[0m \u001b[0mx\u001b[0m \u001b[1;32min\u001b[0m \u001b[0marray\u001b[0m \u001b[1;32mif\u001b[0m \u001b[0mcompare\u001b[0m\u001b[1;33m(\u001b[0m\u001b[0mx\u001b[0m\u001b[1;33m,\u001b[0m \u001b[0mvalue\u001b[0m\u001b[1;33m)\u001b[0m\u001b[1;33m)\u001b[0m\u001b[1;33m\u001b[0m\u001b[1;33m\u001b[0m\u001b[0m\n\u001b[0m\u001b[0;32m    134\u001b[0m     \u001b[1;32mexcept\u001b[0m \u001b[0mStopIteration\u001b[0m\u001b[1;33m:\u001b[0m\u001b[1;33m\u001b[0m\u001b[1;33m\u001b[0m\u001b[0m\n",
            "\u001b[1;31mStopIteration\u001b[0m: ",
            "\nDuring handling of the above exception, another exception occurred:\n",
            "\u001b[1;31mValueError\u001b[0m                                Traceback (most recent call last)",
            "\u001b[1;32mC:\\Anaconda\\lib\\site-packages\\ipywidgets\\widgets\\widget_selection.py\u001b[0m in \u001b[0;36m_validate_value\u001b[1;34m(self, proposal)\u001b[0m\n\u001b[0;32m    236\u001b[0m         \u001b[1;32mtry\u001b[0m\u001b[1;33m:\u001b[0m\u001b[1;33m\u001b[0m\u001b[1;33m\u001b[0m\u001b[0m\n\u001b[1;32m--> 237\u001b[1;33m             \u001b[1;32mreturn\u001b[0m \u001b[0mfindvalue\u001b[0m\u001b[1;33m(\u001b[0m\u001b[0mself\u001b[0m\u001b[1;33m.\u001b[0m\u001b[0m_options_values\u001b[0m\u001b[1;33m,\u001b[0m \u001b[0mvalue\u001b[0m\u001b[1;33m,\u001b[0m \u001b[0mself\u001b[0m\u001b[1;33m.\u001b[0m\u001b[0mequals\u001b[0m\u001b[1;33m)\u001b[0m \u001b[1;32mif\u001b[0m \u001b[0mvalue\u001b[0m \u001b[1;32mis\u001b[0m \u001b[1;32mnot\u001b[0m \u001b[1;32mNone\u001b[0m \u001b[1;32melse\u001b[0m \u001b[1;32mNone\u001b[0m\u001b[1;33m\u001b[0m\u001b[1;33m\u001b[0m\u001b[0m\n\u001b[0m\u001b[0;32m    238\u001b[0m         \u001b[1;32mexcept\u001b[0m \u001b[0mValueError\u001b[0m\u001b[1;33m:\u001b[0m\u001b[1;33m\u001b[0m\u001b[1;33m\u001b[0m\u001b[0m\n",
            "\u001b[1;32mC:\\Anaconda\\lib\\site-packages\\ipywidgets\\widgets\\widget_selection.py\u001b[0m in \u001b[0;36mfindvalue\u001b[1;34m(array, value, compare)\u001b[0m\n\u001b[0;32m    134\u001b[0m     \u001b[1;32mexcept\u001b[0m \u001b[0mStopIteration\u001b[0m\u001b[1;33m:\u001b[0m\u001b[1;33m\u001b[0m\u001b[1;33m\u001b[0m\u001b[0m\n\u001b[1;32m--> 135\u001b[1;33m         \u001b[1;32mraise\u001b[0m \u001b[0mValueError\u001b[0m\u001b[1;33m(\u001b[0m\u001b[1;34m'%r not in array'\u001b[0m\u001b[1;33m%\u001b[0m\u001b[0mvalue\u001b[0m\u001b[1;33m)\u001b[0m\u001b[1;33m\u001b[0m\u001b[1;33m\u001b[0m\u001b[0m\n\u001b[0m\u001b[0;32m    136\u001b[0m \u001b[1;33m\u001b[0m\u001b[0m\n",
            "\u001b[1;31mValueError\u001b[0m: 'monster' not in array",
            "\nDuring handling of the above exception, another exception occurred:\n",
            "\u001b[1;31mTraitError\u001b[0m                                Traceback (most recent call last)",
            "\u001b[1;32m<ipython-input-180-35b3c58e9272>\u001b[0m in \u001b[0;36m<module>\u001b[1;34m\u001b[0m\n\u001b[0;32m     65\u001b[0m \u001b[1;33m\u001b[0m\u001b[0m\n\u001b[0;32m     66\u001b[0m \u001b[1;33m\u001b[0m\u001b[0m\n\u001b[1;32m---> 67\u001b[1;33m \u001b[0mplay_turn\u001b[0m\u001b[1;33m(\u001b[0m\u001b[1;33m)\u001b[0m\u001b[1;33m\u001b[0m\u001b[1;33m\u001b[0m\u001b[0m\n\u001b[0m",
            "\u001b[1;32m<ipython-input-180-35b3c58e9272>\u001b[0m in \u001b[0;36mplay_turn\u001b[1;34m()\u001b[0m\n\u001b[0;32m     28\u001b[0m     \u001b[1;32mtry\u001b[0m\u001b[1;33m:\u001b[0m\u001b[1;33m\u001b[0m\u001b[1;33m\u001b[0m\u001b[0m\n\u001b[0;32m     29\u001b[0m         \u001b[0mturn\u001b[0m \u001b[1;33m=\u001b[0m \u001b[0mnext\u001b[0m\u001b[1;33m(\u001b[0m\u001b[0mbattle_round\u001b[0m\u001b[1;33m)\u001b[0m\u001b[1;33m\u001b[0m\u001b[1;33m\u001b[0m\u001b[0m\n\u001b[1;32m---> 30\u001b[1;33m         \u001b[0mbattle\u001b[0m\u001b[1;33m(\u001b[0m\u001b[0mturn\u001b[0m\u001b[1;33m,\u001b[0m \u001b[0mcharacters\u001b[0m\u001b[1;33m)\u001b[0m\u001b[1;33m\u001b[0m\u001b[1;33m\u001b[0m\u001b[0m\n\u001b[0m\u001b[0;32m     31\u001b[0m     \u001b[1;32mexcept\u001b[0m \u001b[0mStopIteration\u001b[0m\u001b[1;33m:\u001b[0m\u001b[1;33m\u001b[0m\u001b[1;33m\u001b[0m\u001b[0m\n\u001b[0;32m     32\u001b[0m         \u001b[0mbattle_round\u001b[0m \u001b[1;33m=\u001b[0m \u001b[0miter\u001b[0m\u001b[1;33m(\u001b[0m\u001b[1;33m[\u001b[0m\u001b[1;33m*\u001b[0m\u001b[0mcharacters\u001b[0m\u001b[1;33m.\u001b[0m\u001b[0mkeys\u001b[0m\u001b[1;33m(\u001b[0m\u001b[1;33m)\u001b[0m\u001b[1;33m]\u001b[0m\u001b[1;33m)\u001b[0m\u001b[1;33m\u001b[0m\u001b[1;33m\u001b[0m\u001b[0m\n",
            "\u001b[1;32m<ipython-input-180-35b3c58e9272>\u001b[0m in \u001b[0;36mbattle\u001b[1;34m(turn, characters)\u001b[0m\n\u001b[0;32m     60\u001b[0m     \u001b[1;32melse\u001b[0m\u001b[1;33m:\u001b[0m\u001b[1;33m\u001b[0m\u001b[1;33m\u001b[0m\u001b[0m\n\u001b[0;32m     61\u001b[0m         \u001b[0mattacker\u001b[0m \u001b[1;33m=\u001b[0m \u001b[0mcharacters\u001b[0m\u001b[1;33m[\u001b[0m\u001b[0mturn\u001b[0m\u001b[1;33m]\u001b[0m\u001b[1;33m\u001b[0m\u001b[1;33m\u001b[0m\u001b[0m\n\u001b[1;32m---> 62\u001b[1;33m         \u001b[0mtargets_buttons\u001b[0m\u001b[1;33m.\u001b[0m\u001b[0mvalue\u001b[0m \u001b[1;33m=\u001b[0m \u001b[1;34m\"monster\"\u001b[0m\u001b[1;33m\u001b[0m\u001b[1;33m\u001b[0m\u001b[0m\n\u001b[0m\u001b[0;32m     63\u001b[0m         \u001b[0mattack_button\u001b[0m\u001b[1;33m.\u001b[0m\u001b[0mon_click\u001b[0m\u001b[1;33m(\u001b[0m\u001b[0mfunctools\u001b[0m\u001b[1;33m.\u001b[0m\u001b[0mpartial\u001b[0m\u001b[1;33m(\u001b[0m\u001b[0mattack\u001b[0m\u001b[1;33m,\u001b[0m \u001b[0mattacker\u001b[0m\u001b[1;33m=\u001b[0m\u001b[0mattacker\u001b[0m\u001b[1;33m,\u001b[0m \u001b[0mlbl\u001b[0m\u001b[1;33m=\u001b[0m\u001b[0mattack_lbl\u001b[0m\u001b[1;33m,\u001b[0m \u001b[0mhit\u001b[0m\u001b[1;33m=\u001b[0m\u001b[0mhit\u001b[0m\u001b[1;33m,\u001b[0m \u001b[0mmiss\u001b[0m\u001b[1;33m=\u001b[0m\u001b[0mmiss\u001b[0m\u001b[1;33m,\u001b[0m \u001b[0mtargets_buttons\u001b[0m\u001b[1;33m=\u001b[0m\u001b[0mtargets_buttons\u001b[0m\u001b[1;33m,\u001b[0m \u001b[0mcharacters\u001b[0m\u001b[1;33m=\u001b[0m\u001b[0mcharacters\u001b[0m\u001b[1;33m)\u001b[0m\u001b[1;33m)\u001b[0m\u001b[1;33m\u001b[0m\u001b[1;33m\u001b[0m\u001b[0m\n\u001b[0;32m     64\u001b[0m         \u001b[0mdisplay\u001b[0m\u001b[1;33m(\u001b[0m\u001b[0mwidgets\u001b[0m\u001b[1;33m.\u001b[0m\u001b[0mGridBox\u001b[0m\u001b[1;33m(\u001b[0m\u001b[1;33m[\u001b[0m\u001b[0mnext_button\u001b[0m\u001b[1;33m,\u001b[0m \u001b[0mturn_lbl\u001b[0m\u001b[1;33m,\u001b[0m \u001b[0mattack_lbl\u001b[0m\u001b[1;33m,\u001b[0m\u001b[0mattack_button\u001b[0m\u001b[1;33m,\u001b[0m \u001b[0mhit\u001b[0m\u001b[1;33m,\u001b[0m \u001b[0mmiss\u001b[0m\u001b[1;33m,\u001b[0m \u001b[0mchars\u001b[0m\u001b[1;33m]\u001b[0m\u001b[1;33m)\u001b[0m\u001b[1;33m)\u001b[0m\u001b[1;33m\u001b[0m\u001b[1;33m\u001b[0m\u001b[0m\n",
            "\u001b[1;32mC:\\Anaconda\\lib\\site-packages\\traitlets\\traitlets.py\u001b[0m in \u001b[0;36m__set__\u001b[1;34m(self, obj, value)\u001b[0m\n\u001b[0;32m    583\u001b[0m             \u001b[1;32mraise\u001b[0m \u001b[0mTraitError\u001b[0m\u001b[1;33m(\u001b[0m\u001b[1;34m'The \"%s\" trait is read-only.'\u001b[0m \u001b[1;33m%\u001b[0m \u001b[0mself\u001b[0m\u001b[1;33m.\u001b[0m\u001b[0mname\u001b[0m\u001b[1;33m)\u001b[0m\u001b[1;33m\u001b[0m\u001b[1;33m\u001b[0m\u001b[0m\n\u001b[0;32m    584\u001b[0m         \u001b[1;32melse\u001b[0m\u001b[1;33m:\u001b[0m\u001b[1;33m\u001b[0m\u001b[1;33m\u001b[0m\u001b[0m\n\u001b[1;32m--> 585\u001b[1;33m             \u001b[0mself\u001b[0m\u001b[1;33m.\u001b[0m\u001b[0mset\u001b[0m\u001b[1;33m(\u001b[0m\u001b[0mobj\u001b[0m\u001b[1;33m,\u001b[0m \u001b[0mvalue\u001b[0m\u001b[1;33m)\u001b[0m\u001b[1;33m\u001b[0m\u001b[1;33m\u001b[0m\u001b[0m\n\u001b[0m\u001b[0;32m    586\u001b[0m \u001b[1;33m\u001b[0m\u001b[0m\n\u001b[0;32m    587\u001b[0m     \u001b[1;32mdef\u001b[0m \u001b[0m_validate\u001b[0m\u001b[1;33m(\u001b[0m\u001b[0mself\u001b[0m\u001b[1;33m,\u001b[0m \u001b[0mobj\u001b[0m\u001b[1;33m,\u001b[0m \u001b[0mvalue\u001b[0m\u001b[1;33m)\u001b[0m\u001b[1;33m:\u001b[0m\u001b[1;33m\u001b[0m\u001b[1;33m\u001b[0m\u001b[0m\n",
            "\u001b[1;32mC:\\Anaconda\\lib\\site-packages\\traitlets\\traitlets.py\u001b[0m in \u001b[0;36mset\u001b[1;34m(self, obj, value)\u001b[0m\n\u001b[0;32m    557\u001b[0m \u001b[1;33m\u001b[0m\u001b[0m\n\u001b[0;32m    558\u001b[0m     \u001b[1;32mdef\u001b[0m \u001b[0mset\u001b[0m\u001b[1;33m(\u001b[0m\u001b[0mself\u001b[0m\u001b[1;33m,\u001b[0m \u001b[0mobj\u001b[0m\u001b[1;33m,\u001b[0m \u001b[0mvalue\u001b[0m\u001b[1;33m)\u001b[0m\u001b[1;33m:\u001b[0m\u001b[1;33m\u001b[0m\u001b[1;33m\u001b[0m\u001b[0m\n\u001b[1;32m--> 559\u001b[1;33m         \u001b[0mnew_value\u001b[0m \u001b[1;33m=\u001b[0m \u001b[0mself\u001b[0m\u001b[1;33m.\u001b[0m\u001b[0m_validate\u001b[0m\u001b[1;33m(\u001b[0m\u001b[0mobj\u001b[0m\u001b[1;33m,\u001b[0m \u001b[0mvalue\u001b[0m\u001b[1;33m)\u001b[0m\u001b[1;33m\u001b[0m\u001b[1;33m\u001b[0m\u001b[0m\n\u001b[0m\u001b[0;32m    560\u001b[0m         \u001b[1;32mtry\u001b[0m\u001b[1;33m:\u001b[0m\u001b[1;33m\u001b[0m\u001b[1;33m\u001b[0m\u001b[0m\n\u001b[0;32m    561\u001b[0m             \u001b[0mold_value\u001b[0m \u001b[1;33m=\u001b[0m \u001b[0mobj\u001b[0m\u001b[1;33m.\u001b[0m\u001b[0m_trait_values\u001b[0m\u001b[1;33m[\u001b[0m\u001b[0mself\u001b[0m\u001b[1;33m.\u001b[0m\u001b[0mname\u001b[0m\u001b[1;33m]\u001b[0m\u001b[1;33m\u001b[0m\u001b[1;33m\u001b[0m\u001b[0m\n",
            "\u001b[1;32mC:\\Anaconda\\lib\\site-packages\\traitlets\\traitlets.py\u001b[0m in \u001b[0;36m_validate\u001b[1;34m(self, obj, value)\u001b[0m\n\u001b[0;32m    591\u001b[0m             \u001b[0mvalue\u001b[0m \u001b[1;33m=\u001b[0m \u001b[0mself\u001b[0m\u001b[1;33m.\u001b[0m\u001b[0mvalidate\u001b[0m\u001b[1;33m(\u001b[0m\u001b[0mobj\u001b[0m\u001b[1;33m,\u001b[0m \u001b[0mvalue\u001b[0m\u001b[1;33m)\u001b[0m\u001b[1;33m\u001b[0m\u001b[1;33m\u001b[0m\u001b[0m\n\u001b[0;32m    592\u001b[0m         \u001b[1;32mif\u001b[0m \u001b[0mobj\u001b[0m\u001b[1;33m.\u001b[0m\u001b[0m_cross_validation_lock\u001b[0m \u001b[1;32mis\u001b[0m \u001b[1;32mFalse\u001b[0m\u001b[1;33m:\u001b[0m\u001b[1;33m\u001b[0m\u001b[1;33m\u001b[0m\u001b[0m\n\u001b[1;32m--> 593\u001b[1;33m             \u001b[0mvalue\u001b[0m \u001b[1;33m=\u001b[0m \u001b[0mself\u001b[0m\u001b[1;33m.\u001b[0m\u001b[0m_cross_validate\u001b[0m\u001b[1;33m(\u001b[0m\u001b[0mobj\u001b[0m\u001b[1;33m,\u001b[0m \u001b[0mvalue\u001b[0m\u001b[1;33m)\u001b[0m\u001b[1;33m\u001b[0m\u001b[1;33m\u001b[0m\u001b[0m\n\u001b[0m\u001b[0;32m    594\u001b[0m         \u001b[1;32mreturn\u001b[0m \u001b[0mvalue\u001b[0m\u001b[1;33m\u001b[0m\u001b[1;33m\u001b[0m\u001b[0m\n\u001b[0;32m    595\u001b[0m \u001b[1;33m\u001b[0m\u001b[0m\n",
            "\u001b[1;32mC:\\Anaconda\\lib\\site-packages\\traitlets\\traitlets.py\u001b[0m in \u001b[0;36m_cross_validate\u001b[1;34m(self, obj, value)\u001b[0m\n\u001b[0;32m    597\u001b[0m         \u001b[1;32mif\u001b[0m \u001b[0mself\u001b[0m\u001b[1;33m.\u001b[0m\u001b[0mname\u001b[0m \u001b[1;32min\u001b[0m \u001b[0mobj\u001b[0m\u001b[1;33m.\u001b[0m\u001b[0m_trait_validators\u001b[0m\u001b[1;33m:\u001b[0m\u001b[1;33m\u001b[0m\u001b[1;33m\u001b[0m\u001b[0m\n\u001b[0;32m    598\u001b[0m             \u001b[0mproposal\u001b[0m \u001b[1;33m=\u001b[0m \u001b[0mBunch\u001b[0m\u001b[1;33m(\u001b[0m\u001b[1;33m{\u001b[0m\u001b[1;34m'trait'\u001b[0m\u001b[1;33m:\u001b[0m \u001b[0mself\u001b[0m\u001b[1;33m,\u001b[0m \u001b[1;34m'value'\u001b[0m\u001b[1;33m:\u001b[0m \u001b[0mvalue\u001b[0m\u001b[1;33m,\u001b[0m \u001b[1;34m'owner'\u001b[0m\u001b[1;33m:\u001b[0m \u001b[0mobj\u001b[0m\u001b[1;33m}\u001b[0m\u001b[1;33m)\u001b[0m\u001b[1;33m\u001b[0m\u001b[1;33m\u001b[0m\u001b[0m\n\u001b[1;32m--> 599\u001b[1;33m             \u001b[0mvalue\u001b[0m \u001b[1;33m=\u001b[0m \u001b[0mobj\u001b[0m\u001b[1;33m.\u001b[0m\u001b[0m_trait_validators\u001b[0m\u001b[1;33m[\u001b[0m\u001b[0mself\u001b[0m\u001b[1;33m.\u001b[0m\u001b[0mname\u001b[0m\u001b[1;33m]\u001b[0m\u001b[1;33m(\u001b[0m\u001b[0mobj\u001b[0m\u001b[1;33m,\u001b[0m \u001b[0mproposal\u001b[0m\u001b[1;33m)\u001b[0m\u001b[1;33m\u001b[0m\u001b[1;33m\u001b[0m\u001b[0m\n\u001b[0m\u001b[0;32m    600\u001b[0m         \u001b[1;32melif\u001b[0m \u001b[0mhasattr\u001b[0m\u001b[1;33m(\u001b[0m\u001b[0mobj\u001b[0m\u001b[1;33m,\u001b[0m \u001b[1;34m'_%s_validate'\u001b[0m \u001b[1;33m%\u001b[0m \u001b[0mself\u001b[0m\u001b[1;33m.\u001b[0m\u001b[0mname\u001b[0m\u001b[1;33m)\u001b[0m\u001b[1;33m:\u001b[0m\u001b[1;33m\u001b[0m\u001b[1;33m\u001b[0m\u001b[0m\n\u001b[0;32m    601\u001b[0m             \u001b[0mmeth_name\u001b[0m \u001b[1;33m=\u001b[0m \u001b[1;34m'_%s_validate'\u001b[0m \u001b[1;33m%\u001b[0m \u001b[0mself\u001b[0m\u001b[1;33m.\u001b[0m\u001b[0mname\u001b[0m\u001b[1;33m\u001b[0m\u001b[1;33m\u001b[0m\u001b[0m\n",
            "\u001b[1;32mC:\\Anaconda\\lib\\site-packages\\traitlets\\traitlets.py\u001b[0m in \u001b[0;36m__call__\u001b[1;34m(self, *args, **kwargs)\u001b[0m\n\u001b[0;32m    905\u001b[0m         \u001b[1;34m\"\"\"Pass `*args` and `**kwargs` to the handler's function if it exists.\"\"\"\u001b[0m\u001b[1;33m\u001b[0m\u001b[1;33m\u001b[0m\u001b[0m\n\u001b[0;32m    906\u001b[0m         \u001b[1;32mif\u001b[0m \u001b[0mhasattr\u001b[0m\u001b[1;33m(\u001b[0m\u001b[0mself\u001b[0m\u001b[1;33m,\u001b[0m \u001b[1;34m'func'\u001b[0m\u001b[1;33m)\u001b[0m\u001b[1;33m:\u001b[0m\u001b[1;33m\u001b[0m\u001b[1;33m\u001b[0m\u001b[0m\n\u001b[1;32m--> 907\u001b[1;33m             \u001b[1;32mreturn\u001b[0m \u001b[0mself\u001b[0m\u001b[1;33m.\u001b[0m\u001b[0mfunc\u001b[0m\u001b[1;33m(\u001b[0m\u001b[1;33m*\u001b[0m\u001b[0margs\u001b[0m\u001b[1;33m,\u001b[0m \u001b[1;33m**\u001b[0m\u001b[0mkwargs\u001b[0m\u001b[1;33m)\u001b[0m\u001b[1;33m\u001b[0m\u001b[1;33m\u001b[0m\u001b[0m\n\u001b[0m\u001b[0;32m    908\u001b[0m         \u001b[1;32melse\u001b[0m\u001b[1;33m:\u001b[0m\u001b[1;33m\u001b[0m\u001b[1;33m\u001b[0m\u001b[0m\n\u001b[0;32m    909\u001b[0m             \u001b[1;32mreturn\u001b[0m \u001b[0mself\u001b[0m\u001b[1;33m.\u001b[0m\u001b[0m_init_call\u001b[0m\u001b[1;33m(\u001b[0m\u001b[1;33m*\u001b[0m\u001b[0margs\u001b[0m\u001b[1;33m,\u001b[0m \u001b[1;33m**\u001b[0m\u001b[0mkwargs\u001b[0m\u001b[1;33m)\u001b[0m\u001b[1;33m\u001b[0m\u001b[1;33m\u001b[0m\u001b[0m\n",
            "\u001b[1;32mC:\\Anaconda\\lib\\site-packages\\ipywidgets\\widgets\\widget_selection.py\u001b[0m in \u001b[0;36m_validate_value\u001b[1;34m(self, proposal)\u001b[0m\n\u001b[0;32m    237\u001b[0m             \u001b[1;32mreturn\u001b[0m \u001b[0mfindvalue\u001b[0m\u001b[1;33m(\u001b[0m\u001b[0mself\u001b[0m\u001b[1;33m.\u001b[0m\u001b[0m_options_values\u001b[0m\u001b[1;33m,\u001b[0m \u001b[0mvalue\u001b[0m\u001b[1;33m,\u001b[0m \u001b[0mself\u001b[0m\u001b[1;33m.\u001b[0m\u001b[0mequals\u001b[0m\u001b[1;33m)\u001b[0m \u001b[1;32mif\u001b[0m \u001b[0mvalue\u001b[0m \u001b[1;32mis\u001b[0m \u001b[1;32mnot\u001b[0m \u001b[1;32mNone\u001b[0m \u001b[1;32melse\u001b[0m \u001b[1;32mNone\u001b[0m\u001b[1;33m\u001b[0m\u001b[1;33m\u001b[0m\u001b[0m\n\u001b[0;32m    238\u001b[0m         \u001b[1;32mexcept\u001b[0m \u001b[0mValueError\u001b[0m\u001b[1;33m:\u001b[0m\u001b[1;33m\u001b[0m\u001b[1;33m\u001b[0m\u001b[0m\n\u001b[1;32m--> 239\u001b[1;33m             \u001b[1;32mraise\u001b[0m \u001b[0mTraitError\u001b[0m\u001b[1;33m(\u001b[0m\u001b[1;34m'Invalid selection: value not found'\u001b[0m\u001b[1;33m)\u001b[0m\u001b[1;33m\u001b[0m\u001b[1;33m\u001b[0m\u001b[0m\n\u001b[0m\u001b[0;32m    240\u001b[0m \u001b[1;33m\u001b[0m\u001b[0m\n\u001b[0;32m    241\u001b[0m     \u001b[1;33m@\u001b[0m\u001b[0mobserve\u001b[0m\u001b[1;33m(\u001b[0m\u001b[1;34m'value'\u001b[0m\u001b[1;33m)\u001b[0m\u001b[1;33m\u001b[0m\u001b[1;33m\u001b[0m\u001b[0m\n",
            "\u001b[1;31mTraitError\u001b[0m: Invalid selection: value not found"
          ]
        }
      ]
    },
    {
      "cell_type": "code",
      "metadata": {
        "id": "Kf_PGVZ6dEcc",
        "colab_type": "code",
        "colab": {}
      },
      "source": [
        ""
      ],
      "execution_count": 0,
      "outputs": []
    }
  ]
}